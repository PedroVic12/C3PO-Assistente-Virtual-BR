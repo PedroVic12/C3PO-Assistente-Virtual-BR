{
 "cells": [
  {
   "cell_type": "markdown",
   "metadata": {},
   "source": [
    "## Read de docs\n",
    "--\n",
    "\n",
    "### Conceitos fundamentais Sistema Eletrica de Potencia\n",
    "1) Potencia Reativa e aparente, CA?\n",
    "2) Linhas de transmissão\n",
    "3) leis de LKT, LKC\n",
    "4) aprender fluxo de potencia no pandapower\n",
    "5) verificar o alg Do cenario atual do fluxo e das restricoes\n",
    "6) Alg Agendamento Eletrico\n",
    "\n",
    "### PandaPower\n",
    "- Fluxo de pontencia das tensões das barras e das linhas (carregamento ou loading)\n",
    "\n",
    "- Basico:\n",
    "https://pandapower.readthedocs.io/en/stable/elements/line.html#create-function\n",
    "\n",
    "- Objetivo 2025 com Potencai reativa e aparente\n",
    "https://pandapower.readthedocs.io/en/stable/elements/line.html#result-parameters\n",
    "\n",
    "\n",
    "Boa referência para Eng Elétrica e IA : \n",
    "https://spectrum.ieee.org/\n",
    "\n",
    "### Exemplo Básico - Caso 14\n",
    "https://pandapower.readthedocs.io/en/latest/networks/power_system_test_cases.html#case-14\n",
    "\n",
    "https://pandapower.readthedocs.io/en/latest/powerflow.html\n",
    "\n"
   ]
  },
  {
   "cell_type": "code",
   "execution_count": null,
   "metadata": {},
   "outputs": [],
   "source": []
  }
 ],
 "metadata": {
  "language_info": {
   "name": "python"
  }
 },
 "nbformat": 4,
 "nbformat_minor": 2
}
